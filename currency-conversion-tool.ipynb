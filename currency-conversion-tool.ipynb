{
 "cells": [
  {
   "cell_type": "code",
   "execution_count": 50,
   "id": "bf2b5118",
   "metadata": {},
   "outputs": [],
   "source": [
    "import os\n",
    "from dotenv import load_dotenv"
   ]
  },
  {
   "cell_type": "code",
   "execution_count": 51,
   "id": "38a65925",
   "metadata": {},
   "outputs": [
    {
     "name": "stdout",
     "output_type": "stream",
     "text": [
      "Gemini API key loaded successfully!\n"
     ]
    }
   ],
   "source": [
    "load_dotenv()\n",
    "google_api_key = os.getenv(\"GOOGLE_API_KEY\")\n",
    "\n",
    "if google_api_key:\n",
    "    print(\"Gemini API key loaded successfully!\")\n",
    "else:\n",
    "    print(\"Failed to load Gemini API key from .env file!\")"
   ]
  },
  {
   "cell_type": "code",
   "execution_count": 52,
   "id": "c95b70c9",
   "metadata": {},
   "outputs": [],
   "source": [
    "import requests\n",
    "from langchain_google_genai import ChatGoogleGenerativeAI\n",
    "from langchain_core.tools import tool, InjectedToolArg\n",
    "from langchain_core.messages import HumanMessage\n",
    "from typing import Annotated"
   ]
  },
  {
   "cell_type": "code",
   "execution_count": 53,
   "id": "f9b5da8d",
   "metadata": {},
   "outputs": [],
   "source": [
    "# tool create\n",
    "\n",
    "@tool\n",
    "def get_conversion_factor(base_currency: str, target_currency: str) -> float:\n",
    "    \"\"\"\n",
    "    This function fetches the currency conversion factor between a given base currency and a target currency\n",
    "    \"\"\"\n",
    "    url = f'https://v6.exchangerate-api.com/v6/c754eab14ffab33112e380ca/pair/{base_currency}/{target_currency}'\n",
    "\n",
    "    response = requests.get(url)\n",
    "\n",
    "    return response.json()\n",
    "\n",
    "@tool\n",
    "def convert(base_currency_value: int, conversion_rate: Annotated[float, InjectedToolArg]) -> float:\n",
    "    \"\"\"\n",
    "    Given a currency conversion rate this function calculates the target currency value from a given base currency value\n",
    "    \"\"\"\n",
    "\n",
    "    return base_currency_value * conversion_rate"
   ]
  },
  {
   "cell_type": "code",
   "execution_count": 54,
   "id": "68677bed",
   "metadata": {},
   "outputs": [
    {
     "data": {
      "text/plain": [
       "{'result': 'success',\n",
       " 'documentation': 'https://www.exchangerate-api.com/docs',\n",
       " 'terms_of_use': 'https://www.exchangerate-api.com/terms',\n",
       " 'time_last_update_unix': 1745625602,\n",
       " 'time_last_update_utc': 'Sat, 26 Apr 2025 00:00:02 +0000',\n",
       " 'time_next_update_unix': 1745712002,\n",
       " 'time_next_update_utc': 'Sun, 27 Apr 2025 00:00:02 +0000',\n",
       " 'base_code': 'USD',\n",
       " 'target_code': 'INR',\n",
       " 'conversion_rate': 85.4368}"
      ]
     },
     "execution_count": 54,
     "metadata": {},
     "output_type": "execute_result"
    }
   ],
   "source": [
    "get_conversion_factor.invoke({'base_currency': 'USD', 'target_currency': 'INR'})"
   ]
  },
  {
   "cell_type": "code",
   "execution_count": 55,
   "id": "f89ca4ff",
   "metadata": {},
   "outputs": [
    {
     "data": {
      "text/plain": [
       "851.5999999999999"
      ]
     },
     "execution_count": 55,
     "metadata": {},
     "output_type": "execute_result"
    }
   ],
   "source": [
    "convert.invoke({'base_currency_value': 10, 'conversion_rate': 85.16})"
   ]
  },
  {
   "cell_type": "markdown",
   "id": "484cf57f",
   "metadata": {},
   "source": [
    "### Tool Binding"
   ]
  },
  {
   "cell_type": "code",
   "execution_count": 56,
   "id": "2df99545",
   "metadata": {},
   "outputs": [],
   "source": [
    "llm = ChatGoogleGenerativeAI(google_api_key=google_api_key, model=\"gemini-1.5-pro\")"
   ]
  },
  {
   "cell_type": "code",
   "execution_count": 57,
   "id": "2ff4365c",
   "metadata": {},
   "outputs": [],
   "source": [
    "llm_with_tools = llm.bind_tools([get_conversion_factor, convert])"
   ]
  },
  {
   "cell_type": "markdown",
   "id": "c6cd7ba3",
   "metadata": {},
   "source": [
    "### Tool Calling"
   ]
  },
  {
   "cell_type": "code",
   "execution_count": 58,
   "id": "874500e5",
   "metadata": {},
   "outputs": [],
   "source": [
    "messages = [HumanMessage(\"what is the conversion factor between USD and INR, and based on that can you convert 10 USD to INR\")]"
   ]
  },
  {
   "cell_type": "code",
   "execution_count": 59,
   "id": "c335e86f",
   "metadata": {},
   "outputs": [],
   "source": [
    "ai_message = llm_with_tools.invoke(messages)"
   ]
  },
  {
   "cell_type": "code",
   "execution_count": 60,
   "id": "70817919",
   "metadata": {},
   "outputs": [],
   "source": [
    "messages.append(ai_message)"
   ]
  },
  {
   "cell_type": "code",
   "execution_count": 61,
   "id": "1903743a",
   "metadata": {},
   "outputs": [
    {
     "data": {
      "text/plain": [
       "[{'name': 'get_conversion_factor',\n",
       "  'args': {'target_currency': 'INR', 'base_currency': 'USD'},\n",
       "  'id': '5cdc8826-2985-48de-8ec1-4f0f1fb9f894',\n",
       "  'type': 'tool_call'},\n",
       " {'name': 'convert',\n",
       "  'args': {'base_currency_value': 10.0},\n",
       "  'id': 'f76175dc-0e46-4de1-aefa-73c8f7c78b69',\n",
       "  'type': 'tool_call'}]"
      ]
     },
     "execution_count": 61,
     "metadata": {},
     "output_type": "execute_result"
    }
   ],
   "source": [
    "ai_message.tool_calls"
   ]
  },
  {
   "cell_type": "code",
   "execution_count": 62,
   "id": "46e9aec7",
   "metadata": {},
   "outputs": [],
   "source": [
    "import json\n",
    "\n",
    "for tool_call in ai_message.tool_calls:\n",
    "    # execute the 1st tool and get the value of conversion rate\n",
    "    if tool_call['name'] == 'get_conversion_factor':\n",
    "        tool_message1 = get_conversion_factor.invoke(tool_call)\n",
    "        # print(tool_message1)\n",
    "        # fetch the conversion rate\n",
    "        conversion_rate = (json.loads(tool_message1.content)['conversion_rate'])\n",
    "        # append this tool message to message list\n",
    "        messages.append(tool_message1)\n",
    "    # execute the 2nd tool using the conversion rate from tool1\n",
    "    if tool_call['name'] == 'convert':\n",
    "        # fetch the current arg\n",
    "        tool_call['args']['conversion_rate'] = conversion_rate\n",
    "        tool_message2 = convert.invoke(tool_call)\n",
    "        messages.append(tool_message2)"
   ]
  },
  {
   "cell_type": "code",
   "execution_count": 63,
   "id": "82686a8e",
   "metadata": {},
   "outputs": [
    {
     "data": {
      "text/plain": [
       "[HumanMessage(content='what is the conversion factor between USD and INR, and based on that can you convert 10 USD to INR', additional_kwargs={}, response_metadata={}),\n",
       " AIMessage(content='', additional_kwargs={'function_call': {'name': 'convert', 'arguments': '{\"base_currency_value\": 10.0}'}}, response_metadata={'prompt_feedback': {'block_reason': 0, 'safety_ratings': []}, 'finish_reason': 'STOP', 'model_name': 'gemini-1.5-pro-002', 'safety_ratings': []}, id='run-3ea91f3d-acc5-45f3-acf6-cc8d97a3936c-0', tool_calls=[{'name': 'get_conversion_factor', 'args': {'target_currency': 'INR', 'base_currency': 'USD'}, 'id': '5cdc8826-2985-48de-8ec1-4f0f1fb9f894', 'type': 'tool_call'}, {'name': 'convert', 'args': {'base_currency_value': 10.0, 'conversion_rate': 85.4368}, 'id': 'f76175dc-0e46-4de1-aefa-73c8f7c78b69', 'type': 'tool_call'}], usage_metadata={'input_tokens': 86, 'output_tokens': 19, 'total_tokens': 105, 'input_token_details': {'cache_read': 0}}),\n",
       " ToolMessage(content='{\"result\": \"success\", \"documentation\": \"https://www.exchangerate-api.com/docs\", \"terms_of_use\": \"https://www.exchangerate-api.com/terms\", \"time_last_update_unix\": 1745625602, \"time_last_update_utc\": \"Sat, 26 Apr 2025 00:00:02 +0000\", \"time_next_update_unix\": 1745712002, \"time_next_update_utc\": \"Sun, 27 Apr 2025 00:00:02 +0000\", \"base_code\": \"USD\", \"target_code\": \"INR\", \"conversion_rate\": 85.4368}', name='get_conversion_factor', tool_call_id='5cdc8826-2985-48de-8ec1-4f0f1fb9f894'),\n",
       " ToolMessage(content='854.368', name='convert', tool_call_id='f76175dc-0e46-4de1-aefa-73c8f7c78b69')]"
      ]
     },
     "execution_count": 63,
     "metadata": {},
     "output_type": "execute_result"
    }
   ],
   "source": [
    "messages"
   ]
  },
  {
   "cell_type": "code",
   "execution_count": 64,
   "id": "352f6af2",
   "metadata": {},
   "outputs": [
    {
     "data": {
      "text/plain": [
       "'The conversion factor between USD and INR is 85.4368. So, 10 USD is equivalent to 854.368 INR.'"
      ]
     },
     "execution_count": 64,
     "metadata": {},
     "output_type": "execute_result"
    }
   ],
   "source": [
    "llm_with_tools.invoke(messages).content"
   ]
  }
 ],
 "metadata": {
  "kernelspec": {
   "display_name": "Python 3",
   "language": "python",
   "name": "python3"
  },
  "language_info": {
   "codemirror_mode": {
    "name": "ipython",
    "version": 3
   },
   "file_extension": ".py",
   "mimetype": "text/x-python",
   "name": "python",
   "nbconvert_exporter": "python",
   "pygments_lexer": "ipython3",
   "version": "3.13.1"
  }
 },
 "nbformat": 4,
 "nbformat_minor": 5
}
